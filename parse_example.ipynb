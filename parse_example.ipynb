{
  "nbformat": 4,
  "nbformat_minor": 0,
  "metadata": {
    "colab": {
      "provenance": []
    },
    "kernelspec": {
      "name": "python3",
      "display_name": "Python 3"
    },
    "language_info": {
      "name": "python"
    }
  },
  "cells": [
    {
      "cell_type": "markdown",
      "source": [
        "## Import"
      ],
      "metadata": {
        "id": "prPLyB_luPmR"
      }
    },
    {
      "cell_type": "code",
      "execution_count": 5,
      "metadata": {
        "id": "QAQVFKYTt-DV"
      },
      "outputs": [],
      "source": [
        "import numpy as np"
      ]
    },
    {
      "cell_type": "markdown",
      "source": [
        "## Functions"
      ],
      "metadata": {
        "id": "QKV2zLrLuTRf"
      }
    },
    {
      "cell_type": "code",
      "source": [
        "def process_summand(summand):\n",
        "  summand = summand.replace(' ', '')\n",
        "  summand_name = ''\n",
        "  summand_dict = {}\n",
        "  summand_arr = summand.split('*')\n",
        "\n",
        "  if len(summand_arr) == 1 and 'd' not in summand_arr[0] and 'u' not in summand_arr[0] and 'x' not in summand_arr[0] and 's' not in summand_arr[0]:\n",
        "    #checking const summand\n",
        "    summand_name = '+const'\n",
        "    summand_dict['coeff'] = np.round(float(summand_arr[0]), 4)\n",
        "    summand_dict['term'] = [None,]\n",
        "    summand_dict['pow'] = 0\n",
        "    summand_dict['var'] = 0\n",
        "    return summand_name, summand_dict\n",
        "\n",
        "\n",
        "  pow = []\n",
        "  var = []\n",
        "  term = []\n",
        "  freq = []\n",
        "  coeff = 1\n",
        "\n",
        "  if summand[0] == '-' and not(summand[1].isdigit()):\n",
        "    coeff = -1\n",
        "    summand_dict['coeff'] = coeff\n",
        "\n",
        "  for i in range(len(summand_arr)):\n",
        "    frequancy = None\n",
        "    power = 0\n",
        "    varr = 0\n",
        "\n",
        "    end_of_summand = summand_arr[i].find('{')\n",
        "    if end_of_summand == -1:\n",
        "      #coefficient\n",
        "      coeff = float(summand_arr[i])\n",
        "      coeff = np.round(coeff,4)\n",
        "      summand_dict['coeff'] = coeff\n",
        "      if summand_dict['coeff'] < 0:\n",
        "        summand_name = '-' + str(summand_dict['coeff'])[1:]\n",
        "      else:\n",
        "        summand_name = '+' + str(summand_dict['coeff'])\n",
        "    else:\n",
        "      #part with some kind of var or trig tokens, non-coefficient\n",
        "      if len(summand_name) > 0:\n",
        "        summand_name = summand_name + '*' + summand_arr[i][0 : end_of_summand]\n",
        "      else:\n",
        "        summand_name = summand_arr[i][0 : end_of_summand]\n",
        "\n",
        "      if 'x0' in summand_arr[i]:\n",
        "        term.append([0,])\n",
        "      else:\n",
        "        term.append([None,])\n",
        "\n",
        "    if coeff != 0:\n",
        "      #if coeff == 0 -> summand is None and it's useless\n",
        "      if 'cos' in summand or 'sin' in summand:\n",
        "        index_freq = summand_arr[i].find('freq:')\n",
        "        if index_freq != -1:\n",
        "          index_freq_end = summand_arr[i][index_freq:].find(',')\n",
        "          if index_freq_end == -1:\n",
        "            index_freq_end = summand_arr[i][index_freq:].find('}')\n",
        "          frequancy = summand_arr[i][index_freq + 5 : index_freq_end]\n",
        "          frequancy = float(frequancy)\n",
        "          frequancy = np.round(frequancy, 4)\n",
        "        if 'x0' in summand_arr[i] or 's' in summand_arr[i]:\n",
        "          freq.append(frequancy)\n",
        "\n",
        "      index_power = summand_arr[i].find('power:')\n",
        "      if index_power != -1:\n",
        "        index_power_end = summand_arr[i][index_power:].find(',')\n",
        "        if index_power_end == -1:\n",
        "          index_power_end = summand_arr[i][index_power:].find('}')\n",
        "        power = summand_arr[i][index_power + 6 : index_power + index_power_end]\n",
        "        power = int(float(power))\n",
        "        pow.append(power)\n",
        "        if 'x0' in summand:\n",
        "          var.append(varr)\n",
        "\n",
        "  if  coeff ==  0:\n",
        "    summand_name = None\n",
        "    summand_dict = None\n",
        "    return summand_name, summand_dict\n",
        "\n",
        "  if len(pow) == 1:\n",
        "    pow = pow[0]\n",
        "  if len(var) == 1:\n",
        "    var = var[0]\n",
        "  if len(term) == 1:\n",
        "    term = term[0]\n",
        "\n",
        "  term_name_idx = summand_name.find('*') + 1\n",
        "  term_name = summand_name[term_name_idx:]\n",
        "\n",
        "  summand_dict[term_name] = term\n",
        "  summand_dict['pow'] = pow\n",
        "  summand_dict['var'] = var\n",
        "  if len(freq) > 0:\n",
        "    if len(freq) == 1:\n",
        "      freq = freq[0]\n",
        "    summand_dict['freq'] = freq\n",
        "\n",
        "  return summand_name, summand_dict"
      ],
      "metadata": {
        "id": "mtOa019WuCjO"
      },
      "execution_count": 6,
      "outputs": []
    },
    {
      "cell_type": "code",
      "source": [
        "def parse_du(eq):\n",
        "  if not (isinstance(eq, str)):\n",
        "    eq = eq.text_form\n",
        "  eq = eq.replace(\" \", \"\")\n",
        "  res_eq = {}\n",
        "  left_eq, right_eq = eq.split('=')\n",
        "  left_eq = left_eq.split('+')\n",
        "  right_eq = right_eq.split('}')[0]\n",
        "  right_eq += '}'\n",
        "  if right_eq[0] == '-':\n",
        "    left_eq.append(right_eq[1:])\n",
        "  else:\n",
        "    if right_eq[0] == '+':\n",
        "      left_eq.append('-' + right_eq[1:])\n",
        "    else:\n",
        "      left_eq.append('-' + right_eq)\n",
        "  #del useless information and send all to left side of equation\n",
        "\n",
        "  for i in range(len(left_eq)): #parsing every summand\n",
        "    summand = left_eq[i]\n",
        "    summand_name, summand_dict = process_summand(summand)\n",
        "    if summand_name is None or summand_dict is None:\n",
        "      continue\n",
        "    else:\n",
        "      res_eq[summand_name] = summand_dict\n",
        "\n",
        "  return res_eq\n",
        "\n",
        "\n",
        "\n",
        "\n",
        "'''\n",
        "structure of summand:\n",
        "\n",
        "coeff\n",
        "term summands, if it's du/dx0 or something like this is [0,] else [None,]\n",
        "pow\n",
        "if it's trigonometric - freq (optional)\n",
        "var - if len 2 (coeff + 1 var) -> 0, else list of 0 ([0,0...])\n",
        "'''"
      ],
      "metadata": {
        "colab": {
          "base_uri": "https://localhost:8080/",
          "height": 52
        },
        "id": "gIEPzypOuIGF",
        "outputId": "f35cb154-6c23-466d-bf0a-bbebc7f5e763"
      },
      "execution_count": 7,
      "outputs": [
        {
          "output_type": "execute_result",
          "data": {
            "text/plain": [
              "\"\\nstructure of summand:\\n\\ncoeff\\nterm summands, if it's du/dx0 or something like this is [0,] else [None,]\\npow\\nif it's trigonometric - freq (optional)\\nvar - if len 2 (coeff + 1 var) -> 0, else list of 0 ([0,0...])\\n\""
            ],
            "application/vnd.google.colaboratory.intrinsic+json": {
              "type": "string"
            }
          },
          "metadata": {},
          "execution_count": 7
        }
      ]
    },
    {
      "cell_type": "markdown",
      "source": [
        "## Examples"
      ],
      "metadata": {
        "id": "ZewMo3VguM6F"
      }
    },
    {
      "cell_type": "code",
      "source": [
        "process_summand('0.4909684923233549 * du/dx0{power: 1.0}')"
      ],
      "metadata": {
        "colab": {
          "base_uri": "https://localhost:8080/"
        },
        "id": "9U0RRP3quMEg",
        "outputId": "fbc3a0da-d222-46b0-b69b-89b922416102"
      },
      "execution_count": 8,
      "outputs": [
        {
          "output_type": "execute_result",
          "data": {
            "text/plain": [
              "('+0.491*du/dx0', {'coeff': 0.491, 'du/dx0': [0], 'pow': 1, 'var': 0})"
            ]
          },
          "metadata": {},
          "execution_count": 8
        }
      ]
    },
    {
      "cell_type": "code",
      "source": [
        "eq = '0.4909684923233549 * du/dx0{power: 1.0} * sin{power: 1.0, freq: 0.9695963606508056, dim: 0.0} + 0.0 * u{power: 1.0} + 0.8912866079430934 * du/dx0{power: 1.0} * cos{power: 1.0, freq: 0.9659963566320707, dim: 0.0} + -0.01055228426538488 = du/dx0{power: 1.0}'\n",
        "parse_du(eq)"
      ],
      "metadata": {
        "colab": {
          "base_uri": "https://localhost:8080/"
        },
        "id": "atedMIImud1Q",
        "outputId": "d5fe5874-b75d-44a7-86ef-3001c2513a29"
      },
      "execution_count": 9,
      "outputs": [
        {
          "output_type": "execute_result",
          "data": {
            "text/plain": [
              "{'+0.491*du/dx0*sin': {'coeff': 0.491,\n",
              "  'du/dx0*sin': [[0], [None]],\n",
              "  'pow': [1, 1],\n",
              "  'var': [0, 0],\n",
              "  'freq': [None, 0.96]},\n",
              " '+0.8913*du/dx0*cos': {'coeff': 0.8913,\n",
              "  'du/dx0*cos': [[0], [None]],\n",
              "  'pow': [1, 1],\n",
              "  'var': [0, 0],\n",
              "  'freq': [None, 0.96]},\n",
              " '+const': {'coeff': -0.0106, 'term': [None], 'pow': 0, 'var': 0},\n",
              " '-du/dx0': {'coeff': -1, '-du/dx0': [0], 'pow': 1, 'var': 0}}"
            ]
          },
          "metadata": {},
          "execution_count": 9
        }
      ]
    }
  ]
}